{
  "cells": [
    {
      "cell_type": "markdown",
      "metadata": {
        "id": "view-in-github",
        "colab_type": "text"
      },
      "source": [
        "<a href=\"https://colab.research.google.com/github/MasDiptha12/Machine-Learning/blob/main/UTS/Clustering_Models/Clustering_Models_Grouping_Similar_Data_Points.ipynb\" target=\"_parent\"><img src=\"https://colab.research.google.com/assets/colab-badge.svg\" alt=\"Open In Colab\"/></a>"
      ]
    },
    {
      "cell_type": "markdown",
      "metadata": {
        "id": "ebeIUTl-II6H"
      },
      "source": [
        "# 1. Pengumpulan & Pembersihan Data\n",
        "\n",
        "Langkah pertama adalah mengimpor dan membersihkan data. Pembersihan ini meliputi penanganan missing values, duplikasi data, dan pembersihan kolom yang tidak relevan. Pada langkah ini, menambahkan encoding='ISO-8859-1' di pd.read_csv() untuk menghindari UnicodeDecodeError."
      ]
    },
    {
      "cell_type": "code",
      "execution_count": 2,
      "metadata": {
        "colab": {
          "base_uri": "https://localhost:8080/"
        },
        "id": "kj0nPkomFoKl",
        "outputId": "95184419-b9b1-48a0-a85a-530b69e68e1b"
      },
      "outputs": [
        {
          "output_type": "stream",
          "name": "stdout",
          "text": [
            "<class 'pandas.core.frame.DataFrame'>\n",
            "Index: 406829 entries, 0 to 541908\n",
            "Data columns (total 8 columns):\n",
            " #   Column       Non-Null Count   Dtype  \n",
            "---  ------       --------------   -----  \n",
            " 0   InvoiceNo    406829 non-null  object \n",
            " 1   StockCode    406829 non-null  object \n",
            " 2   Description  406829 non-null  object \n",
            " 3   Quantity     406829 non-null  int64  \n",
            " 4   InvoiceDate  406829 non-null  object \n",
            " 5   UnitPrice    406829 non-null  float64\n",
            " 6   CustomerID   406829 non-null  float64\n",
            " 7   Country      406829 non-null  object \n",
            "dtypes: float64(2), int64(1), object(5)\n",
            "memory usage: 27.9+ MB\n"
          ]
        }
      ],
      "source": [
        "# Import libraries yang diperlukan\n",
        "import pandas as pd\n",
        "\n",
        "# Mengimpor dataset yang telah diupload ke Google Colab dengan encoding yang sesuai\n",
        "data = pd.read_csv('/content/UTSClustering.csv', encoding='ISO-8859-1')\n",
        "\n",
        "# Menampilkan beberapa baris pertama untuk memastikan data terimpor dengan benar\n",
        "data.head()\n",
        "\n",
        "# Menghapus baris yang memiliki nilai kosong\n",
        "data_cleaned = data.dropna()\n",
        "\n",
        "# Menghapus kolom duplikat\n",
        "data_cleaned = data_cleaned.loc[:, ~data_cleaned.columns.duplicated()]\n",
        "\n",
        "# Menghapus kolom yang tidak relevan (misalnya kolom 'Time' jika tidak digunakan dalam clustering)\n",
        "data_cleaned = data_cleaned.drop(columns=['Time'], errors='ignore')\n",
        "\n",
        "# Menampilkan informasi data setelah pembersihan\n",
        "data_cleaned.info()"
      ]
    },
    {
      "cell_type": "markdown",
      "metadata": {
        "id": "MV220_YwJCgp"
      },
      "source": [
        "# 2. Feature Selection\n",
        "\n",
        "Pada langkah ini, kita akan memilih fitur yang relevan dengan algoritma clustering yang akan digunakan. Dalam dataset ini, kita akan menggunakan kolom yang relevan seperti Quantity, UnitPrice, dan CustomerID karena kolom lain seperti InvoiceNo, StockCode, Description, dan Country mungkin tidak relevan untuk clustering numerik."
      ]
    },
    {
      "cell_type": "code",
      "execution_count": 3,
      "metadata": {
        "colab": {
          "base_uri": "https://localhost:8080/",
          "height": 206
        },
        "id": "bqdziaI1JJDR",
        "outputId": "128f5063-efb7-4de7-f3a9-67d3ee0d3c3b"
      },
      "outputs": [
        {
          "output_type": "execute_result",
          "data": {
            "text/plain": [
              "   Quantity  UnitPrice  CustomerID\n",
              "0         6       2.55     17850.0\n",
              "1         6       3.39     17850.0\n",
              "2         8       2.75     17850.0\n",
              "3         6       3.39     17850.0\n",
              "4         6       3.39     17850.0"
            ],
            "text/html": [
              "\n",
              "  <div id=\"df-23453cb1-4182-4ab2-8b0e-f731dcd12957\" class=\"colab-df-container\">\n",
              "    <div>\n",
              "<style scoped>\n",
              "    .dataframe tbody tr th:only-of-type {\n",
              "        vertical-align: middle;\n",
              "    }\n",
              "\n",
              "    .dataframe tbody tr th {\n",
              "        vertical-align: top;\n",
              "    }\n",
              "\n",
              "    .dataframe thead th {\n",
              "        text-align: right;\n",
              "    }\n",
              "</style>\n",
              "<table border=\"1\" class=\"dataframe\">\n",
              "  <thead>\n",
              "    <tr style=\"text-align: right;\">\n",
              "      <th></th>\n",
              "      <th>Quantity</th>\n",
              "      <th>UnitPrice</th>\n",
              "      <th>CustomerID</th>\n",
              "    </tr>\n",
              "  </thead>\n",
              "  <tbody>\n",
              "    <tr>\n",
              "      <th>0</th>\n",
              "      <td>6</td>\n",
              "      <td>2.55</td>\n",
              "      <td>17850.0</td>\n",
              "    </tr>\n",
              "    <tr>\n",
              "      <th>1</th>\n",
              "      <td>6</td>\n",
              "      <td>3.39</td>\n",
              "      <td>17850.0</td>\n",
              "    </tr>\n",
              "    <tr>\n",
              "      <th>2</th>\n",
              "      <td>8</td>\n",
              "      <td>2.75</td>\n",
              "      <td>17850.0</td>\n",
              "    </tr>\n",
              "    <tr>\n",
              "      <th>3</th>\n",
              "      <td>6</td>\n",
              "      <td>3.39</td>\n",
              "      <td>17850.0</td>\n",
              "    </tr>\n",
              "    <tr>\n",
              "      <th>4</th>\n",
              "      <td>6</td>\n",
              "      <td>3.39</td>\n",
              "      <td>17850.0</td>\n",
              "    </tr>\n",
              "  </tbody>\n",
              "</table>\n",
              "</div>\n",
              "    <div class=\"colab-df-buttons\">\n",
              "\n",
              "  <div class=\"colab-df-container\">\n",
              "    <button class=\"colab-df-convert\" onclick=\"convertToInteractive('df-23453cb1-4182-4ab2-8b0e-f731dcd12957')\"\n",
              "            title=\"Convert this dataframe to an interactive table.\"\n",
              "            style=\"display:none;\">\n",
              "\n",
              "  <svg xmlns=\"http://www.w3.org/2000/svg\" height=\"24px\" viewBox=\"0 -960 960 960\">\n",
              "    <path d=\"M120-120v-720h720v720H120Zm60-500h600v-160H180v160Zm220 220h160v-160H400v160Zm0 220h160v-160H400v160ZM180-400h160v-160H180v160Zm440 0h160v-160H620v160ZM180-180h160v-160H180v160Zm440 0h160v-160H620v160Z\"/>\n",
              "  </svg>\n",
              "    </button>\n",
              "\n",
              "  <style>\n",
              "    .colab-df-container {\n",
              "      display:flex;\n",
              "      gap: 12px;\n",
              "    }\n",
              "\n",
              "    .colab-df-convert {\n",
              "      background-color: #E8F0FE;\n",
              "      border: none;\n",
              "      border-radius: 50%;\n",
              "      cursor: pointer;\n",
              "      display: none;\n",
              "      fill: #1967D2;\n",
              "      height: 32px;\n",
              "      padding: 0 0 0 0;\n",
              "      width: 32px;\n",
              "    }\n",
              "\n",
              "    .colab-df-convert:hover {\n",
              "      background-color: #E2EBFA;\n",
              "      box-shadow: 0px 1px 2px rgba(60, 64, 67, 0.3), 0px 1px 3px 1px rgba(60, 64, 67, 0.15);\n",
              "      fill: #174EA6;\n",
              "    }\n",
              "\n",
              "    .colab-df-buttons div {\n",
              "      margin-bottom: 4px;\n",
              "    }\n",
              "\n",
              "    [theme=dark] .colab-df-convert {\n",
              "      background-color: #3B4455;\n",
              "      fill: #D2E3FC;\n",
              "    }\n",
              "\n",
              "    [theme=dark] .colab-df-convert:hover {\n",
              "      background-color: #434B5C;\n",
              "      box-shadow: 0px 1px 3px 1px rgba(0, 0, 0, 0.15);\n",
              "      filter: drop-shadow(0px 1px 2px rgba(0, 0, 0, 0.3));\n",
              "      fill: #FFFFFF;\n",
              "    }\n",
              "  </style>\n",
              "\n",
              "    <script>\n",
              "      const buttonEl =\n",
              "        document.querySelector('#df-23453cb1-4182-4ab2-8b0e-f731dcd12957 button.colab-df-convert');\n",
              "      buttonEl.style.display =\n",
              "        google.colab.kernel.accessAllowed ? 'block' : 'none';\n",
              "\n",
              "      async function convertToInteractive(key) {\n",
              "        const element = document.querySelector('#df-23453cb1-4182-4ab2-8b0e-f731dcd12957');\n",
              "        const dataTable =\n",
              "          await google.colab.kernel.invokeFunction('convertToInteractive',\n",
              "                                                    [key], {});\n",
              "        if (!dataTable) return;\n",
              "\n",
              "        const docLinkHtml = 'Like what you see? Visit the ' +\n",
              "          '<a target=\"_blank\" href=https://colab.research.google.com/notebooks/data_table.ipynb>data table notebook</a>'\n",
              "          + ' to learn more about interactive tables.';\n",
              "        element.innerHTML = '';\n",
              "        dataTable['output_type'] = 'display_data';\n",
              "        await google.colab.output.renderOutput(dataTable, element);\n",
              "        const docLink = document.createElement('div');\n",
              "        docLink.innerHTML = docLinkHtml;\n",
              "        element.appendChild(docLink);\n",
              "      }\n",
              "    </script>\n",
              "  </div>\n",
              "\n",
              "\n",
              "    <div id=\"df-2488eb05-686f-42b7-b1e0-87ddcbd9c3aa\">\n",
              "      <button class=\"colab-df-quickchart\" onclick=\"quickchart('df-2488eb05-686f-42b7-b1e0-87ddcbd9c3aa')\"\n",
              "                title=\"Suggest charts\"\n",
              "                style=\"display:none;\">\n",
              "\n",
              "<svg xmlns=\"http://www.w3.org/2000/svg\" height=\"24px\"viewBox=\"0 0 24 24\"\n",
              "     width=\"24px\">\n",
              "    <g>\n",
              "        <path d=\"M19 3H5c-1.1 0-2 .9-2 2v14c0 1.1.9 2 2 2h14c1.1 0 2-.9 2-2V5c0-1.1-.9-2-2-2zM9 17H7v-7h2v7zm4 0h-2V7h2v10zm4 0h-2v-4h2v4z\"/>\n",
              "    </g>\n",
              "</svg>\n",
              "      </button>\n",
              "\n",
              "<style>\n",
              "  .colab-df-quickchart {\n",
              "      --bg-color: #E8F0FE;\n",
              "      --fill-color: #1967D2;\n",
              "      --hover-bg-color: #E2EBFA;\n",
              "      --hover-fill-color: #174EA6;\n",
              "      --disabled-fill-color: #AAA;\n",
              "      --disabled-bg-color: #DDD;\n",
              "  }\n",
              "\n",
              "  [theme=dark] .colab-df-quickchart {\n",
              "      --bg-color: #3B4455;\n",
              "      --fill-color: #D2E3FC;\n",
              "      --hover-bg-color: #434B5C;\n",
              "      --hover-fill-color: #FFFFFF;\n",
              "      --disabled-bg-color: #3B4455;\n",
              "      --disabled-fill-color: #666;\n",
              "  }\n",
              "\n",
              "  .colab-df-quickchart {\n",
              "    background-color: var(--bg-color);\n",
              "    border: none;\n",
              "    border-radius: 50%;\n",
              "    cursor: pointer;\n",
              "    display: none;\n",
              "    fill: var(--fill-color);\n",
              "    height: 32px;\n",
              "    padding: 0;\n",
              "    width: 32px;\n",
              "  }\n",
              "\n",
              "  .colab-df-quickchart:hover {\n",
              "    background-color: var(--hover-bg-color);\n",
              "    box-shadow: 0 1px 2px rgba(60, 64, 67, 0.3), 0 1px 3px 1px rgba(60, 64, 67, 0.15);\n",
              "    fill: var(--button-hover-fill-color);\n",
              "  }\n",
              "\n",
              "  .colab-df-quickchart-complete:disabled,\n",
              "  .colab-df-quickchart-complete:disabled:hover {\n",
              "    background-color: var(--disabled-bg-color);\n",
              "    fill: var(--disabled-fill-color);\n",
              "    box-shadow: none;\n",
              "  }\n",
              "\n",
              "  .colab-df-spinner {\n",
              "    border: 2px solid var(--fill-color);\n",
              "    border-color: transparent;\n",
              "    border-bottom-color: var(--fill-color);\n",
              "    animation:\n",
              "      spin 1s steps(1) infinite;\n",
              "  }\n",
              "\n",
              "  @keyframes spin {\n",
              "    0% {\n",
              "      border-color: transparent;\n",
              "      border-bottom-color: var(--fill-color);\n",
              "      border-left-color: var(--fill-color);\n",
              "    }\n",
              "    20% {\n",
              "      border-color: transparent;\n",
              "      border-left-color: var(--fill-color);\n",
              "      border-top-color: var(--fill-color);\n",
              "    }\n",
              "    30% {\n",
              "      border-color: transparent;\n",
              "      border-left-color: var(--fill-color);\n",
              "      border-top-color: var(--fill-color);\n",
              "      border-right-color: var(--fill-color);\n",
              "    }\n",
              "    40% {\n",
              "      border-color: transparent;\n",
              "      border-right-color: var(--fill-color);\n",
              "      border-top-color: var(--fill-color);\n",
              "    }\n",
              "    60% {\n",
              "      border-color: transparent;\n",
              "      border-right-color: var(--fill-color);\n",
              "    }\n",
              "    80% {\n",
              "      border-color: transparent;\n",
              "      border-right-color: var(--fill-color);\n",
              "      border-bottom-color: var(--fill-color);\n",
              "    }\n",
              "    90% {\n",
              "      border-color: transparent;\n",
              "      border-bottom-color: var(--fill-color);\n",
              "    }\n",
              "  }\n",
              "</style>\n",
              "\n",
              "      <script>\n",
              "        async function quickchart(key) {\n",
              "          const quickchartButtonEl =\n",
              "            document.querySelector('#' + key + ' button');\n",
              "          quickchartButtonEl.disabled = true;  // To prevent multiple clicks.\n",
              "          quickchartButtonEl.classList.add('colab-df-spinner');\n",
              "          try {\n",
              "            const charts = await google.colab.kernel.invokeFunction(\n",
              "                'suggestCharts', [key], {});\n",
              "          } catch (error) {\n",
              "            console.error('Error during call to suggestCharts:', error);\n",
              "          }\n",
              "          quickchartButtonEl.classList.remove('colab-df-spinner');\n",
              "          quickchartButtonEl.classList.add('colab-df-quickchart-complete');\n",
              "        }\n",
              "        (() => {\n",
              "          let quickchartButtonEl =\n",
              "            document.querySelector('#df-2488eb05-686f-42b7-b1e0-87ddcbd9c3aa button');\n",
              "          quickchartButtonEl.style.display =\n",
              "            google.colab.kernel.accessAllowed ? 'block' : 'none';\n",
              "        })();\n",
              "      </script>\n",
              "    </div>\n",
              "\n",
              "    </div>\n",
              "  </div>\n"
            ],
            "application/vnd.google.colaboratory.intrinsic+json": {
              "type": "dataframe",
              "variable_name": "data_cleaned"
            }
          },
          "metadata": {},
          "execution_count": 3
        }
      ],
      "source": [
        "# Memilih fitur yang relevan untuk clustering\n",
        "data_cleaned = data_cleaned[['Quantity', 'UnitPrice', 'CustomerID']]\n",
        "\n",
        "# Memeriksa apakah ada nilai yang hilang setelah pemilihan fitur\n",
        "data_cleaned.isnull().sum()\n",
        "\n",
        "# Menghapus baris dengan nilai kosong (jika ada)\n",
        "data_cleaned = data_cleaned.dropna()\n",
        "\n",
        "# Menampilkan data setelah seleksi fitur\n",
        "data_cleaned.head()"
      ]
    },
    {
      "cell_type": "markdown",
      "metadata": {
        "id": "nCsgFJi7JQEy"
      },
      "source": [
        "# 3. Feature Engineering\n",
        "\n",
        "Pada tahap ini, kita akan melakukan transformasi data untuk mempersiapkan fitur-fitur yang digunakan dalam algoritma clustering. Dalam hal ini, kita akan melakukan standardisasi fitur agar semua fitur berada dalam skala yang sama."
      ]
    },
    {
      "cell_type": "code",
      "execution_count": 4,
      "metadata": {
        "colab": {
          "base_uri": "https://localhost:8080/",
          "height": 206
        },
        "id": "mRLqRxOBJXT0",
        "outputId": "638a8460-5815-45a2-d7af-5f7d0d0a6406"
      },
      "outputs": [
        {
          "output_type": "execute_result",
          "data": {
            "text/plain": [
              "   Quantity  UnitPrice  CustomerID\n",
              "0 -0.024373  -0.013135     1.49528\n",
              "1 -0.024373  -0.001017     1.49528\n",
              "2 -0.016331  -0.010250     1.49528\n",
              "3 -0.024373  -0.001017     1.49528\n",
              "4 -0.024373  -0.001017     1.49528"
            ],
            "text/html": [
              "\n",
              "  <div id=\"df-39a7aa6b-54e0-4199-9be7-dd7b13b478be\" class=\"colab-df-container\">\n",
              "    <div>\n",
              "<style scoped>\n",
              "    .dataframe tbody tr th:only-of-type {\n",
              "        vertical-align: middle;\n",
              "    }\n",
              "\n",
              "    .dataframe tbody tr th {\n",
              "        vertical-align: top;\n",
              "    }\n",
              "\n",
              "    .dataframe thead th {\n",
              "        text-align: right;\n",
              "    }\n",
              "</style>\n",
              "<table border=\"1\" class=\"dataframe\">\n",
              "  <thead>\n",
              "    <tr style=\"text-align: right;\">\n",
              "      <th></th>\n",
              "      <th>Quantity</th>\n",
              "      <th>UnitPrice</th>\n",
              "      <th>CustomerID</th>\n",
              "    </tr>\n",
              "  </thead>\n",
              "  <tbody>\n",
              "    <tr>\n",
              "      <th>0</th>\n",
              "      <td>-0.024373</td>\n",
              "      <td>-0.013135</td>\n",
              "      <td>1.49528</td>\n",
              "    </tr>\n",
              "    <tr>\n",
              "      <th>1</th>\n",
              "      <td>-0.024373</td>\n",
              "      <td>-0.001017</td>\n",
              "      <td>1.49528</td>\n",
              "    </tr>\n",
              "    <tr>\n",
              "      <th>2</th>\n",
              "      <td>-0.016331</td>\n",
              "      <td>-0.010250</td>\n",
              "      <td>1.49528</td>\n",
              "    </tr>\n",
              "    <tr>\n",
              "      <th>3</th>\n",
              "      <td>-0.024373</td>\n",
              "      <td>-0.001017</td>\n",
              "      <td>1.49528</td>\n",
              "    </tr>\n",
              "    <tr>\n",
              "      <th>4</th>\n",
              "      <td>-0.024373</td>\n",
              "      <td>-0.001017</td>\n",
              "      <td>1.49528</td>\n",
              "    </tr>\n",
              "  </tbody>\n",
              "</table>\n",
              "</div>\n",
              "    <div class=\"colab-df-buttons\">\n",
              "\n",
              "  <div class=\"colab-df-container\">\n",
              "    <button class=\"colab-df-convert\" onclick=\"convertToInteractive('df-39a7aa6b-54e0-4199-9be7-dd7b13b478be')\"\n",
              "            title=\"Convert this dataframe to an interactive table.\"\n",
              "            style=\"display:none;\">\n",
              "\n",
              "  <svg xmlns=\"http://www.w3.org/2000/svg\" height=\"24px\" viewBox=\"0 -960 960 960\">\n",
              "    <path d=\"M120-120v-720h720v720H120Zm60-500h600v-160H180v160Zm220 220h160v-160H400v160Zm0 220h160v-160H400v160ZM180-400h160v-160H180v160Zm440 0h160v-160H620v160ZM180-180h160v-160H180v160Zm440 0h160v-160H620v160Z\"/>\n",
              "  </svg>\n",
              "    </button>\n",
              "\n",
              "  <style>\n",
              "    .colab-df-container {\n",
              "      display:flex;\n",
              "      gap: 12px;\n",
              "    }\n",
              "\n",
              "    .colab-df-convert {\n",
              "      background-color: #E8F0FE;\n",
              "      border: none;\n",
              "      border-radius: 50%;\n",
              "      cursor: pointer;\n",
              "      display: none;\n",
              "      fill: #1967D2;\n",
              "      height: 32px;\n",
              "      padding: 0 0 0 0;\n",
              "      width: 32px;\n",
              "    }\n",
              "\n",
              "    .colab-df-convert:hover {\n",
              "      background-color: #E2EBFA;\n",
              "      box-shadow: 0px 1px 2px rgba(60, 64, 67, 0.3), 0px 1px 3px 1px rgba(60, 64, 67, 0.15);\n",
              "      fill: #174EA6;\n",
              "    }\n",
              "\n",
              "    .colab-df-buttons div {\n",
              "      margin-bottom: 4px;\n",
              "    }\n",
              "\n",
              "    [theme=dark] .colab-df-convert {\n",
              "      background-color: #3B4455;\n",
              "      fill: #D2E3FC;\n",
              "    }\n",
              "\n",
              "    [theme=dark] .colab-df-convert:hover {\n",
              "      background-color: #434B5C;\n",
              "      box-shadow: 0px 1px 3px 1px rgba(0, 0, 0, 0.15);\n",
              "      filter: drop-shadow(0px 1px 2px rgba(0, 0, 0, 0.3));\n",
              "      fill: #FFFFFF;\n",
              "    }\n",
              "  </style>\n",
              "\n",
              "    <script>\n",
              "      const buttonEl =\n",
              "        document.querySelector('#df-39a7aa6b-54e0-4199-9be7-dd7b13b478be button.colab-df-convert');\n",
              "      buttonEl.style.display =\n",
              "        google.colab.kernel.accessAllowed ? 'block' : 'none';\n",
              "\n",
              "      async function convertToInteractive(key) {\n",
              "        const element = document.querySelector('#df-39a7aa6b-54e0-4199-9be7-dd7b13b478be');\n",
              "        const dataTable =\n",
              "          await google.colab.kernel.invokeFunction('convertToInteractive',\n",
              "                                                    [key], {});\n",
              "        if (!dataTable) return;\n",
              "\n",
              "        const docLinkHtml = 'Like what you see? Visit the ' +\n",
              "          '<a target=\"_blank\" href=https://colab.research.google.com/notebooks/data_table.ipynb>data table notebook</a>'\n",
              "          + ' to learn more about interactive tables.';\n",
              "        element.innerHTML = '';\n",
              "        dataTable['output_type'] = 'display_data';\n",
              "        await google.colab.output.renderOutput(dataTable, element);\n",
              "        const docLink = document.createElement('div');\n",
              "        docLink.innerHTML = docLinkHtml;\n",
              "        element.appendChild(docLink);\n",
              "      }\n",
              "    </script>\n",
              "  </div>\n",
              "\n",
              "\n",
              "    <div id=\"df-110aa8ee-e2de-4fb5-b8e7-7abaec97c665\">\n",
              "      <button class=\"colab-df-quickchart\" onclick=\"quickchart('df-110aa8ee-e2de-4fb5-b8e7-7abaec97c665')\"\n",
              "                title=\"Suggest charts\"\n",
              "                style=\"display:none;\">\n",
              "\n",
              "<svg xmlns=\"http://www.w3.org/2000/svg\" height=\"24px\"viewBox=\"0 0 24 24\"\n",
              "     width=\"24px\">\n",
              "    <g>\n",
              "        <path d=\"M19 3H5c-1.1 0-2 .9-2 2v14c0 1.1.9 2 2 2h14c1.1 0 2-.9 2-2V5c0-1.1-.9-2-2-2zM9 17H7v-7h2v7zm4 0h-2V7h2v10zm4 0h-2v-4h2v4z\"/>\n",
              "    </g>\n",
              "</svg>\n",
              "      </button>\n",
              "\n",
              "<style>\n",
              "  .colab-df-quickchart {\n",
              "      --bg-color: #E8F0FE;\n",
              "      --fill-color: #1967D2;\n",
              "      --hover-bg-color: #E2EBFA;\n",
              "      --hover-fill-color: #174EA6;\n",
              "      --disabled-fill-color: #AAA;\n",
              "      --disabled-bg-color: #DDD;\n",
              "  }\n",
              "\n",
              "  [theme=dark] .colab-df-quickchart {\n",
              "      --bg-color: #3B4455;\n",
              "      --fill-color: #D2E3FC;\n",
              "      --hover-bg-color: #434B5C;\n",
              "      --hover-fill-color: #FFFFFF;\n",
              "      --disabled-bg-color: #3B4455;\n",
              "      --disabled-fill-color: #666;\n",
              "  }\n",
              "\n",
              "  .colab-df-quickchart {\n",
              "    background-color: var(--bg-color);\n",
              "    border: none;\n",
              "    border-radius: 50%;\n",
              "    cursor: pointer;\n",
              "    display: none;\n",
              "    fill: var(--fill-color);\n",
              "    height: 32px;\n",
              "    padding: 0;\n",
              "    width: 32px;\n",
              "  }\n",
              "\n",
              "  .colab-df-quickchart:hover {\n",
              "    background-color: var(--hover-bg-color);\n",
              "    box-shadow: 0 1px 2px rgba(60, 64, 67, 0.3), 0 1px 3px 1px rgba(60, 64, 67, 0.15);\n",
              "    fill: var(--button-hover-fill-color);\n",
              "  }\n",
              "\n",
              "  .colab-df-quickchart-complete:disabled,\n",
              "  .colab-df-quickchart-complete:disabled:hover {\n",
              "    background-color: var(--disabled-bg-color);\n",
              "    fill: var(--disabled-fill-color);\n",
              "    box-shadow: none;\n",
              "  }\n",
              "\n",
              "  .colab-df-spinner {\n",
              "    border: 2px solid var(--fill-color);\n",
              "    border-color: transparent;\n",
              "    border-bottom-color: var(--fill-color);\n",
              "    animation:\n",
              "      spin 1s steps(1) infinite;\n",
              "  }\n",
              "\n",
              "  @keyframes spin {\n",
              "    0% {\n",
              "      border-color: transparent;\n",
              "      border-bottom-color: var(--fill-color);\n",
              "      border-left-color: var(--fill-color);\n",
              "    }\n",
              "    20% {\n",
              "      border-color: transparent;\n",
              "      border-left-color: var(--fill-color);\n",
              "      border-top-color: var(--fill-color);\n",
              "    }\n",
              "    30% {\n",
              "      border-color: transparent;\n",
              "      border-left-color: var(--fill-color);\n",
              "      border-top-color: var(--fill-color);\n",
              "      border-right-color: var(--fill-color);\n",
              "    }\n",
              "    40% {\n",
              "      border-color: transparent;\n",
              "      border-right-color: var(--fill-color);\n",
              "      border-top-color: var(--fill-color);\n",
              "    }\n",
              "    60% {\n",
              "      border-color: transparent;\n",
              "      border-right-color: var(--fill-color);\n",
              "    }\n",
              "    80% {\n",
              "      border-color: transparent;\n",
              "      border-right-color: var(--fill-color);\n",
              "      border-bottom-color: var(--fill-color);\n",
              "    }\n",
              "    90% {\n",
              "      border-color: transparent;\n",
              "      border-bottom-color: var(--fill-color);\n",
              "    }\n",
              "  }\n",
              "</style>\n",
              "\n",
              "      <script>\n",
              "        async function quickchart(key) {\n",
              "          const quickchartButtonEl =\n",
              "            document.querySelector('#' + key + ' button');\n",
              "          quickchartButtonEl.disabled = true;  // To prevent multiple clicks.\n",
              "          quickchartButtonEl.classList.add('colab-df-spinner');\n",
              "          try {\n",
              "            const charts = await google.colab.kernel.invokeFunction(\n",
              "                'suggestCharts', [key], {});\n",
              "          } catch (error) {\n",
              "            console.error('Error during call to suggestCharts:', error);\n",
              "          }\n",
              "          quickchartButtonEl.classList.remove('colab-df-spinner');\n",
              "          quickchartButtonEl.classList.add('colab-df-quickchart-complete');\n",
              "        }\n",
              "        (() => {\n",
              "          let quickchartButtonEl =\n",
              "            document.querySelector('#df-110aa8ee-e2de-4fb5-b8e7-7abaec97c665 button');\n",
              "          quickchartButtonEl.style.display =\n",
              "            google.colab.kernel.accessAllowed ? 'block' : 'none';\n",
              "        })();\n",
              "      </script>\n",
              "    </div>\n",
              "\n",
              "    </div>\n",
              "  </div>\n"
            ],
            "application/vnd.google.colaboratory.intrinsic+json": {
              "type": "dataframe",
              "summary": "{\n  \"name\": \"pd\",\n  \"rows\": 5,\n  \"fields\": [\n    {\n      \"column\": \"Quantity\",\n      \"properties\": {\n        \"dtype\": \"number\",\n        \"std\": 0.0035965103943100475,\n        \"min\": -0.02437262741160128,\n        \"max\": -0.016330585688139443,\n        \"num_unique_values\": 2,\n        \"samples\": [\n          -0.016330585688139443,\n          -0.02437262741160128\n        ],\n        \"semantic_type\": \"\",\n        \"description\": \"\"\n      }\n    },\n    {\n      \"column\": \"UnitPrice\",\n      \"properties\": {\n        \"dtype\": \"number\",\n        \"std\": 0.005935743397188191,\n        \"min\": -0.013135252301057268,\n        \"max\": -0.001016676631697489,\n        \"num_unique_values\": 3,\n        \"samples\": [\n          -0.013135252301057268,\n          -0.001016676631697489\n        ],\n        \"semantic_type\": \"\",\n        \"description\": \"\"\n      }\n    },\n    {\n      \"column\": \"CustomerID\",\n      \"properties\": {\n        \"dtype\": \"number\",\n        \"std\": 0.0,\n        \"min\": 1.4952801851883888,\n        \"max\": 1.4952801851883888,\n        \"num_unique_values\": 1,\n        \"samples\": [\n          1.4952801851883888\n        ],\n        \"semantic_type\": \"\",\n        \"description\": \"\"\n      }\n    }\n  ]\n}"
            }
          },
          "metadata": {},
          "execution_count": 4
        }
      ],
      "source": [
        "from sklearn.preprocessing import StandardScaler\n",
        "\n",
        "# Inisialisasi StandardScaler untuk standardisasi data\n",
        "scaler = StandardScaler()\n",
        "\n",
        "# Menstandardisasi fitur\n",
        "data_scaled = scaler.fit_transform(data_cleaned)\n",
        "\n",
        "# Menampilkan beberapa baris data setelah distandardisasi\n",
        "import pandas as pd\n",
        "pd.DataFrame(data_scaled, columns=data_cleaned.columns).head()"
      ]
    },
    {
      "cell_type": "markdown",
      "metadata": {
        "id": "PINOJWNSJd5I"
      },
      "source": [
        "# 4. Model Clustering\n",
        "\n",
        "Pada langkah ini, kita akan menerapkan beberapa algoritma clustering untuk dataset yang telah diproses, seperti KMeans, Agglomerative Clustering, DBSCAN, Gaussian Mixture, dan Spectral Clustering."
      ]
    },
    {
      "cell_type": "code",
      "execution_count": 5,
      "metadata": {
        "id": "6igi4mf0OrJj"
      },
      "outputs": [],
      "source": [
        "from sklearn.cluster import KMeans, AgglomerativeClustering, DBSCAN, SpectralClustering\n",
        "from sklearn.mixture import GaussianMixture"
      ]
    },
    {
      "cell_type": "markdown",
      "metadata": {
        "id": "KaMBtu5POv8c"
      },
      "source": [
        "### KMeans Clustering"
      ]
    },
    {
      "cell_type": "code",
      "execution_count": 6,
      "metadata": {
        "colab": {
          "base_uri": "https://localhost:8080/"
        },
        "id": "NsvzL9qHJmjb",
        "outputId": "b938d8e6-c10c-43fb-fa36-de5f9d622103"
      },
      "outputs": [
        {
          "output_type": "stream",
          "name": "stdout",
          "text": [
            "Hasil clustering dengan KMeans:\n",
            "[0 0 0 ... 1 1 1]\n"
          ]
        }
      ],
      "source": [
        "# KMeans Clustering\n",
        "kmeans_model = KMeans(n_clusters=3, random_state=42)\n",
        "kmeans_labels = kmeans_model.fit_predict(data_scaled)\n",
        "\n",
        "print(\"Hasil clustering dengan KMeans:\")\n",
        "print(kmeans_labels)"
      ]
    },
    {
      "cell_type": "markdown",
      "metadata": {
        "id": "i1l28o6CO16r"
      },
      "source": [
        "### Agglomerative Clustering"
      ]
    },
    {
      "cell_type": "code",
      "execution_count": null,
      "metadata": {
        "id": "gKenWTjpO1XL"
      },
      "outputs": [],
      "source": [
        "# Agglomerative Clustering\n",
        "agglo_model = AgglomerativeClustering(n_clusters=3)\n",
        "agglo_labels = agglo_model.fit_predict(data_scaled)\n",
        "\n",
        "print(\"Hasil clustering dengan Agglomerative Clustering:\")\n",
        "print(agglo_labels)"
      ]
    },
    {
      "cell_type": "markdown",
      "metadata": {
        "id": "F4BtjScAO_MP"
      },
      "source": [
        "### DBSCAN"
      ]
    },
    {
      "cell_type": "code",
      "execution_count": null,
      "metadata": {
        "id": "IgB8rctgPPv1"
      },
      "outputs": [],
      "source": [
        "# DBSCAN Clustering\n",
        "dbscan_model = DBSCAN()\n",
        "dbscan_labels = dbscan_model.fit_predict(data_scaled)\n",
        "\n",
        "print(\"Hasil clustering dengan DBSCAN:\")\n",
        "print(dbscan_labels)"
      ]
    },
    {
      "cell_type": "markdown",
      "metadata": {
        "id": "LJlkXcUWQVaa"
      },
      "source": [
        "### Gaussian Mixture"
      ]
    },
    {
      "cell_type": "code",
      "execution_count": 7,
      "metadata": {
        "colab": {
          "base_uri": "https://localhost:8080/"
        },
        "id": "lNUktazZQZZf",
        "outputId": "56f34784-7da3-4f67-b49e-9979bc975443"
      },
      "outputs": [
        {
          "output_type": "stream",
          "name": "stdout",
          "text": [
            "Hasil clustering dengan Gaussian Mixture:\n",
            "[0 0 0 ... 0 0 0]\n"
          ]
        }
      ],
      "source": [
        "# Gaussian Mixture Model\n",
        "gmm_model = GaussianMixture(n_components=3, random_state=42)\n",
        "gmm_labels = gmm_model.fit_predict(data_scaled)\n",
        "\n",
        "print(\"Hasil clustering dengan Gaussian Mixture:\")\n",
        "print(gmm_labels)"
      ]
    },
    {
      "cell_type": "markdown",
      "metadata": {
        "id": "-XFLK3LSQbpt"
      },
      "source": [
        "### Spectral Clustering"
      ]
    },
    {
      "cell_type": "code",
      "execution_count": null,
      "metadata": {
        "id": "SFSc3AX6QetF"
      },
      "outputs": [],
      "source": [
        "# Spectral Clustering\n",
        "spectral_model = SpectralClustering(n_clusters=3, random_state=42, affinity='nearest_neighbors')\n",
        "spectral_labels = spectral_model.fit_predict(data_scaled)\n",
        "\n",
        "print(\"Hasil clustering dengan Spectral Clustering:\")\n",
        "print(spectral_labels)"
      ]
    },
    {
      "cell_type": "markdown",
      "metadata": {
        "id": "Wq-k7bebQtvk"
      },
      "source": [
        "---\n",
        "\n",
        "### Catatan : Untuk Agglomerative Clustering dan DBSCAN dilewati dan tidak dijalankan karena menyebabkan crash pada Google Collab. Sedangkan untuk Spectral Clustering dapat dijalankan, namun memakan waktu yang sangat lama sehingga untuk Output tidak dapat saya tunjukkan saat pengumpulan tugas UTS ini karena sudah mendekati deadline pengumpulan\n",
        "\n",
        "---"
      ]
    },
    {
      "cell_type": "markdown",
      "metadata": {
        "id": "iUKGci6Nk37i"
      },
      "source": [
        "# 5. Evaluasi\n",
        "\n",
        "Kita akan mengevaluasi setiap model secara terpisah, menggunakan tiga metrik:\n",
        "- Silhouette Score – Semakin tinggi, semakin baik (maks: 1)\n",
        "- Davies-Bouldin Index – Semakin rendah, semakin baik\n",
        "- Calinski-Harabasz Score – Semakin tinggi, semakin baik"
      ]
    },
    {
      "cell_type": "markdown",
      "source": [
        "---\n",
        "\n",
        "### Catatan : Dikarenakan Agglomerative dan DBSCAN membuat Google Collab saya crash, dan Spectral memakan waktu yang lama, oleh karena itu untuk tahap selanjutnya saya hanya akan menampilkan pengolahan data model KMeans dan Gaussian. Program akan tetap saya taruh pada Collab, namun tidak akan dijalankan\n",
        "\n",
        "---"
      ],
      "metadata": {
        "id": "7Gz8trD8_Tpp"
      }
    },
    {
      "cell_type": "markdown",
      "metadata": {
        "id": "iDIQs1KVlFaq"
      },
      "source": [
        "### Evaluasi KMeans"
      ]
    },
    {
      "cell_type": "code",
      "source": [
        "from sklearn.metrics import silhouette_score, davies_bouldin_score, calinski_harabasz_score"
      ],
      "metadata": {
        "id": "vtsHHCIdBCWy"
      },
      "execution_count": 10,
      "outputs": []
    },
    {
      "cell_type": "code",
      "execution_count": null,
      "metadata": {
        "id": "TYnBBgowRDwU"
      },
      "outputs": [],
      "source": [
        "print(\"=== Evaluasi KMeans ===\")\n",
        "print(\"Silhouette Score:\", silhouette_score(data_scaled, kmeans_labels))\n",
        "print(\"Davies-Bouldin Index:\", davies_bouldin_score(data_scaled, kmeans_labels))\n",
        "print(\"Calinski-Harabasz Score:\", calinski_harabasz_score(data_scaled, kmeans_labels))"
      ]
    },
    {
      "cell_type": "markdown",
      "source": [
        "### Evaluasi Agglomerative"
      ],
      "metadata": {
        "id": "uQLe5Z5MAVYH"
      }
    },
    {
      "cell_type": "code",
      "source": [
        "print(\"=== Evaluasi Agglomerative ===\")\n",
        "print(\"Silhouette Score:\", silhouette_score(data_scaled, agglo_labels))\n",
        "print(\"Davies-Bouldin Index:\", davies_bouldin_score(data_scaled, agglo_labels))\n",
        "print(\"Calinski-Harabasz Score:\", calinski_harabasz_score(data_scaled, agglo_labels))"
      ],
      "metadata": {
        "id": "vXgnJpqSAZkF"
      },
      "execution_count": null,
      "outputs": []
    },
    {
      "cell_type": "markdown",
      "source": [
        "### Evaluasi DBSCAN"
      ],
      "metadata": {
        "id": "JLV2WXKfAaVj"
      }
    },
    {
      "cell_type": "code",
      "source": [
        "print(\"=== Evaluasi DBSCAN ===\")\n",
        "if len(set(dbscan_labels)) > 1:\n",
        "    print(\"Silhouette Score:\", silhouette_score(data_scaled, dbscan_labels))\n",
        "    print(\"Davies-Bouldin Index:\", davies_bouldin_score(data_scaled, dbscan_labels))\n",
        "    print(\"Calinski-Harabasz Score:\", calinski_harabasz_score(data_scaled, dbscan_labels))\n",
        "else:\n",
        "    print(\"Clustering tidak valid (semua -1 / noise)\")"
      ],
      "metadata": {
        "id": "nbEvBdwiAdQi"
      },
      "execution_count": null,
      "outputs": []
    },
    {
      "cell_type": "markdown",
      "source": [
        "### Evaluasi Gaussian"
      ],
      "metadata": {
        "id": "KndgagJFAd8a"
      }
    },
    {
      "cell_type": "code",
      "source": [
        "print(\"=== Evaluasi Gaussian Mixture ===\")\n",
        "print(\"Silhouette Score:\", silhouette_score(data_scaled, gmm_labels))\n",
        "print(\"Davies-Bouldin Index:\", davies_bouldin_score(data_scaled, gmm_labels))\n",
        "print(\"Calinski-Harabasz Score:\", calinski_harabasz_score(data_scaled, gmm_labels))"
      ],
      "metadata": {
        "id": "wuU4BtVeAgFe"
      },
      "execution_count": null,
      "outputs": []
    },
    {
      "cell_type": "markdown",
      "source": [
        "### Evaluasi Spectral Claustering"
      ],
      "metadata": {
        "id": "hIsCEDpwAhvf"
      }
    },
    {
      "cell_type": "code",
      "source": [
        "print(\"=== Evaluasi Spectral Clustering ===\")\n",
        "print(\"Silhouette Score:\", silhouette_score(data_scaled, spectral_labels))\n",
        "print(\"Davies-Bouldin Index:\", davies_bouldin_score(data_scaled, spectral_labels))\n",
        "print(\"Calinski-Harabasz Score:\", calinski_harabasz_score(data_scaled, spectral_labels))"
      ],
      "metadata": {
        "id": "wJG1lPyVAlpb"
      },
      "execution_count": null,
      "outputs": []
    },
    {
      "cell_type": "markdown",
      "source": [
        "# 6. Visualisasi\n",
        "\n",
        "Akan ditampilkan:\n",
        "- Silhouette Plot\n",
        "- Cluster Scatter Plot (menggunakan dua fitur pertama)"
      ],
      "metadata": {
        "id": "LFiyDfrmDeGI"
      }
    },
    {
      "cell_type": "markdown",
      "source": [
        "### KMeans\n"
      ],
      "metadata": {
        "id": "etL_6ncKDq2q"
      }
    },
    {
      "cell_type": "code",
      "source": [
        "plot_silhouette(data_scaled, kmeans_labels, \"Silhouette Plot - KMeans\")\n",
        "\n",
        "plt.figure(figsize=(6, 5))\n",
        "sns.scatterplot(x=data_scaled[:, 0], y=data_scaled[:, 1], hue=kmeans_labels, palette='Set1')\n",
        "plt.title(\"Cluster Scatter Plot - KMeans\")\n",
        "plt.show()"
      ],
      "metadata": {
        "id": "uEdesmH2DxE4"
      },
      "execution_count": null,
      "outputs": []
    },
    {
      "cell_type": "markdown",
      "source": [
        "### Agglomerative"
      ],
      "metadata": {
        "id": "UDJBaJBGDxXN"
      }
    },
    {
      "cell_type": "code",
      "source": [
        "plot_silhouette(data_scaled, agglo_labels, \"Silhouette Plot - Agglomerative\")\n",
        "\n",
        "plt.figure(figsize=(6, 5))\n",
        "sns.scatterplot(x=data_scaled[:, 0], y=data_scaled[:, 1], hue=agglo_labels, palette='Set2')\n",
        "plt.title(\"Cluster Scatter Plot - Agglomerative\")\n",
        "plt.show()"
      ],
      "metadata": {
        "id": "vWlt549tD1BQ"
      },
      "execution_count": null,
      "outputs": []
    },
    {
      "cell_type": "markdown",
      "source": [
        "### DBSCAN"
      ],
      "metadata": {
        "id": "F6EqeOfQD1bB"
      }
    },
    {
      "cell_type": "code",
      "source": [
        "if len(set(dbscan_labels)) > 1:\n",
        "    plot_silhouette(data_scaled, dbscan_labels, \"Silhouette Plot - DBSCAN\")\n",
        "\n",
        "plt.figure(figsize=(6, 5))\n",
        "sns.scatterplot(x=data_scaled[:, 0], y=data_scaled[:, 1], hue=dbscan_labels, palette='Set3')\n",
        "plt.title(\"Cluster Scatter Plot - DBSCAN\")\n",
        "plt.show()"
      ],
      "metadata": {
        "id": "T4v3EKxxD37g"
      },
      "execution_count": null,
      "outputs": []
    },
    {
      "cell_type": "markdown",
      "source": [
        "### Gausian"
      ],
      "metadata": {
        "id": "9tZckhdiD4hY"
      }
    },
    {
      "cell_type": "markdown",
      "source": [],
      "metadata": {
        "id": "So1pB1AlD78s"
      }
    },
    {
      "cell_type": "code",
      "source": [
        "plot_silhouette(data_scaled, gmm_labels, \"Silhouette Plot - GMM\")\n",
        "\n",
        "plt.figure(figsize=(6, 5))\n",
        "sns.scatterplot(x=data_scaled[:, 0], y=data_scaled[:, 1], hue=gmm_labels, palette='Dark2')\n",
        "plt.title(\"Cluster Scatter Plot - Gaussian Mixture\")\n",
        "plt.show()"
      ],
      "metadata": {
        "id": "Gj_TB9bLD7ps"
      },
      "execution_count": null,
      "outputs": []
    },
    {
      "cell_type": "markdown",
      "source": [
        "### Spectral"
      ],
      "metadata": {
        "id": "WuzLfogkD9P_"
      }
    },
    {
      "cell_type": "code",
      "source": [
        "plot_silhouette(data_scaled, spectral_labels, \"Silhouette Plot - Spectral Clustering\")\n",
        "\n",
        "plt.figure(figsize=(6, 5))\n",
        "sns.scatterplot(x=data_scaled[:, 0], y=data_scaled[:, 1], hue=spectral_labels, palette='coolwarm')\n",
        "plt.title(\"Cluster Scatter Plot - Spectral Clustering\")\n",
        "plt.show()"
      ],
      "metadata": {
        "id": "OfDR3cMAEB1E"
      },
      "execution_count": null,
      "outputs": []
    },
    {
      "cell_type": "markdown",
      "source": [
        "---\n",
        "### Catatan : dikarenakan waktu yang sudah mepet deadline, maka saya tidak dapat memberikan hasil output dari evaluasi dan visualisasi\n",
        "---"
      ],
      "metadata": {
        "id": "dp3O7MQyDPKX"
      }
    },
    {
      "cell_type": "markdown",
      "source": [
        "---\n",
        "\n",
        "# Penjelasan dan Model Matematis dari Metode Clustering\n",
        "\n",
        "<br>\n",
        "\n",
        "## 1. **KMeans Clustering**\n",
        "\n",
        "**Penjelasan:**  \n",
        "KMeans adalah algoritma clustering partisi yang mencoba memisahkan data ke dalam $k$ cluster. Algoritma ini meminimalkan total jarak kuadrat antara tiap titik data dan centroid cluster-nya.\n",
        "\n",
        "**Model Matematis:**  \n",
        "Tujuan utama dari KMeans adalah meminimalkan fungsi objektif berikut:\n",
        "\n",
        "$$\n",
        "J = \\sum_{i=1}^{k} \\sum_{x \\in C_i} \\|x - \\mu_i\\|^2\n",
        "$$\n",
        "\n",
        "- $k$: jumlah cluster  \n",
        "- $C_i$: himpunan data dalam cluster ke-$i$  \n",
        "- $\\mu_i$: centroid dari cluster $C_i$  \n",
        "- $x$: vektor data\n",
        "\n",
        "<br>\n",
        "\n",
        "## 2. **Agglomerative Clustering**\n",
        "\n",
        "**Penjelasan:**  \n",
        "Agglomerative Clustering adalah metode hierarchical clustering bottom-up. Setiap titik data dianggap sebagai satu cluster, dan pada tiap iterasi dua cluster terdekat digabung berdasarkan linkage criterion.\n",
        "\n",
        "**Model Matematis:**  \n",
        "Jarak antar cluster dapat didefinisikan sebagai:\n",
        "\n",
        "- **Single linkage**:\n",
        "  $$\n",
        "  D(C_i, C_j) = \\min_{x \\in C_i, y \\in C_j} \\|x - y\\|\n",
        "  $$\n",
        "\n",
        "- **Complete linkage**:\n",
        "  $$\n",
        "  D(C_i, C_j) = \\max_{x \\in C_i, y \\in C_j} \\|x - y\\|\n",
        "  $$\n",
        "\n",
        "- **Average linkage**:\n",
        "  $$\n",
        "  D(C_i, C_j) = \\frac{1}{|C_i||C_j|} \\sum_{x \\in C_i} \\sum_{y \\in C_j} \\|x - y\\|\n",
        "  $$\n",
        "\n",
        "- $D(C_i, C_j)$: jarak antar cluster  \n",
        "- $x, y$: data point  \n",
        "- $|C_i|$: jumlah anggota dalam cluster $C_i$\n",
        "\n",
        "<br>\n",
        "\n",
        "## 3. **DBSCAN (Density-Based Spatial Clustering)**\n",
        "\n",
        "**Penjelasan:**  \n",
        "DBSCAN membentuk cluster berdasarkan kepadatan data. Titik yang memiliki cukup banyak tetangga dalam radius tertentu dianggap sebagai bagian dari cluster, sedangkan lainnya adalah outlier (noise).\n",
        "\n",
        "**Model Matematis:**  \n",
        "Titik $x$ disebut **core point** jika:\n",
        "\n",
        "$$\n",
        "|\\{y \\in D \\mid \\|x - y\\| \\leq \\varepsilon\\}| \\geq \\text{MinPts}\n",
        "$$\n",
        "\n",
        "- $\\varepsilon$: radius pencarian (eps)  \n",
        "- $\\text{MinPts}$: jumlah minimum tetangga  \n",
        "- $D$: himpunan seluruh data  \n",
        "\n",
        "<br>\n",
        "\n",
        "## 4. **Gaussian Mixture Model (GMM)**\n",
        "\n",
        "**Penjelasan:**  \n",
        "GMM mengasumsikan bahwa data berasal dari campuran distribusi Gaussian dan menggunakan metode probabilistik (Expectation-Maximization) untuk menentukan parameter distribusi tersebut.\n",
        "\n",
        "**Model Matematis:**  \n",
        "Fungsi densitas probabilitas campuran Gaussian:\n",
        "\n",
        "$$\n",
        "p(x) = \\sum_{i=1}^{k} \\pi_i \\cdot \\mathcal{N}(x \\mid \\mu_i, \\Sigma_i)\n",
        "$$\n",
        "\n",
        "- $\\pi_i$: bobot campuran Gaussian ke-$i$, dengan $\\sum \\pi_i = 1$  \n",
        "- $\\mu_i$, $\\Sigma_i$: mean dan kovarian dari Gaussian ke-$i$  \n",
        "- $\\mathcal{N}(x \\mid \\mu_i, \\Sigma_i)$: distribusi normal multivariat\n",
        "\n",
        "<br>\n",
        "\n",
        "## 5. **Spectral Clustering**\n",
        "\n",
        "**Penjelasan:**  \n",
        "Spectral Clustering membangun graf dari data dan menggunakan spektrum (eigenvalue) dari matriks Laplacian graf tersebut untuk mereduksi dimensi, lalu melakukan clustering (biasanya KMeans) pada hasilnya.\n",
        "\n",
        "**Model Matematis:**  \n",
        "\n",
        "1. Bangun **Affinity Matrix** $A$:  \n",
        "   $$\n",
        "   A_{ij} = \\exp\\left(-\\frac{\\|x_i - x_j\\|^2}{2\\sigma^2}\\right)\n",
        "   $$\n",
        "\n",
        "2. Bangun **Degree Matrix** $D$:  \n",
        "   $$\n",
        "   D_{ii} = \\sum_j A_{ij}\n",
        "   $$\n",
        "\n",
        "3. Hitung **Laplacian Matrix** $L$:  \n",
        "   $$\n",
        "   L = D - A\n",
        "   $$\n",
        "\n",
        "4. Lakukan dekomposisi eigen terhadap $L$, ambil $k$ eigenvector pertama untuk digunakan dalam clustering.\n",
        "\n",
        "---\n",
        "\n"
      ],
      "metadata": {
        "id": "eN5H8IpOCBRJ"
      }
    },
    {
      "cell_type": "markdown",
      "source": [
        "---\n",
        "# Penjelasan Model Terbaik\n",
        "\n",
        "Evaluasi dilakukan menggunakan tiga metrik utama: **Silhouette Score**, **Davies-Bouldin Index**, dan **Calinski-Harabasz Score**. Ketiganya memberikan gambaran yang saling melengkapi mengenai kualitas klasterisasi.\n",
        "\n",
        "<br>\n",
        "\n",
        "### 1. Silhouette Score\n",
        "Silhouette Score mengukur seberapa baik sebuah titik berada dalam klasternya dibandingkan dengan klaster lain. Nilainya berada pada rentang $[-1, 1]$.\n",
        "\n",
        "$$\n",
        "S(i) = \\frac{b(i) - a(i)}{\\max\\{a(i), b(i)\\}}\n",
        "$$\n",
        "\n",
        "- $a(i)$: rata-rata jarak antara titik $i$ dan semua titik lain dalam klaster yang sama.\n",
        "- $b(i)$: jarak minimum antara titik $i$ dan semua titik dalam klaster lain.\n",
        "\n",
        "Semakin tinggi nilai $S(i)$, semakin baik kualitas klasterisasi.\n",
        "\n",
        "<br>\n",
        "\n",
        "### 2. Davies-Bouldin Index\n",
        "Indeks ini mengukur seberapa mirip klaster satu dengan yang lainnya. Nilai yang lebih rendah menunjukkan klaster yang lebih terpisah dan kompak.\n",
        "\n",
        "$$\n",
        "DBI = \\frac{1}{k} \\sum_{i=1}^{k} \\max_{j \\neq i} \\left( \\frac{\\sigma_i + \\sigma_j}{d_{ij}} \\right)\n",
        "$$\n",
        "\n",
        "- $k$: jumlah klaster\n",
        "- $\\sigma_i$: rata-rata jarak antara titik-titik dalam klaster $i$ dengan centroid-nya\n",
        "- $d_{ij}$: jarak antara centroid klaster $i$ dan $j$\n",
        "\n",
        "Semakin kecil DBI, semakin baik hasil klasterisasi.\n",
        "\n",
        "<br>\n",
        "\n",
        "### 3. Calinski-Harabasz Score\n",
        "Skor ini merupakan rasio antara dispersi antar-klaster dengan intra-klaster. Nilai yang lebih besar mengindikasikan pemisahan klaster yang lebih baik.\n",
        "\n",
        "$$\n",
        "CH = \\frac{tr(B_k)}{tr(W_k)} \\cdot \\frac{n - k}{k - 1}\n",
        "$$\n",
        "\n",
        "- $tr(B_k)$: trace dari matriks antar-klaster\n",
        "- $tr(W_k)$: trace dari matriks dalam-klaster\n",
        "- $n$: jumlah total sampel\n",
        "- $k$: jumlah klaster\n",
        "\n",
        "Semakin tinggi skor Calinski-Harabasz, semakin baik pemisahan antar klaster.\n",
        "\n",
        "<br>\n",
        "\n",
        "## Kesimpulan Model Terbaik\n",
        "\n",
        "Model terbaik ditentukan berdasarkan:\n",
        "- **Silhouette Score** tertinggi,\n",
        "- **Davies-Bouldin Index** terendah,\n",
        "- **Calinski-Harabasz Score** tertinggi.\n",
        "\n",
        "---\n"
      ],
      "metadata": {
        "id": "Eufj4UDpCdEL"
      }
    }
  ],
  "metadata": {
    "colab": {
      "provenance": [],
      "authorship_tag": "ABX9TyNi0gmN/tkIvZfukT1G/JDP",
      "include_colab_link": true
    },
    "kernelspec": {
      "display_name": "Python 3",
      "name": "python3"
    },
    "language_info": {
      "name": "python"
    }
  },
  "nbformat": 4,
  "nbformat_minor": 0
}